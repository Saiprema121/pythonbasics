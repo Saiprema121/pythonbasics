{
 "cells": [
  {
   "cell_type": "markdown",
   "id": "3def3629",
   "metadata": {},
   "source": [
    "# CONDITIONS"
   ]
  },
  {
   "cell_type": "markdown",
   "id": "681c075f",
   "metadata": {},
   "source": [
    " # \"\"\"conditions has 3 modules \"\"\" "
   ]
  },
  {
   "cell_type": "code",
   "execution_count": 5,
   "id": "ecd736d1",
   "metadata": {},
   "outputs": [
    {
     "ename": "IndentationError",
     "evalue": "unindent does not match any outer indentation level (<tokenize>, line 9)",
     "output_type": "error",
     "traceback": [
      "\u001b[1;36m  File \u001b[1;32m<tokenize>:9\u001b[1;36m\u001b[0m\n\u001b[1;33m    else:\u001b[0m\n\u001b[1;37m    ^\u001b[0m\n\u001b[1;31mIndentationError\u001b[0m\u001b[1;31m:\u001b[0m unindent does not match any outer indentation level\n"
     ]
    }
   ],
   "source": [
    "if condition:\n",
    "    statement\n",
    "elife condition1:\n",
    "    statement1\n",
    "elife condition2:\n",
    "    statement2\n",
    "elife condition3:\n",
    "    statement3\n",
    " else:\n",
    "    end the statement"
   ]
  },
  {
   "cell_type": "code",
   "execution_count": 6,
   "id": "94e04b6d",
   "metadata": {},
   "outputs": [
    {
     "name": "stdout",
     "output_type": "stream",
     "text": [
      "20\n"
     ]
    }
   ],
   "source": [
    "a=10\n",
    "b=20\n",
    "c=a+b\n",
    "if a>b:\n",
    "    print(c)\n",
    "elif a<b:\n",
    "    print(b)\n",
    "elif a!=b:\n",
    "    ptint(c)\n",
    "else:\n",
    "    print(\"enter the value\")"
   ]
  },
  {
   "cell_type": "code",
   "execution_count": null,
   "id": "cb952502",
   "metadata": {},
   "outputs": [],
   "source": []
  }
 ],
 "metadata": {
  "kernelspec": {
   "display_name": "Python 3 (ipykernel)",
   "language": "python",
   "name": "python3"
  },
  "language_info": {
   "codemirror_mode": {
    "name": "ipython",
    "version": 3
   },
   "file_extension": ".py",
   "mimetype": "text/x-python",
   "name": "python",
   "nbconvert_exporter": "python",
   "pygments_lexer": "ipython3",
   "version": "3.10.9"
  }
 },
 "nbformat": 4,
 "nbformat_minor": 5
}
